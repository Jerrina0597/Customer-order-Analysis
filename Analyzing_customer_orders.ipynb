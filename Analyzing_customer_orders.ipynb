{
  "nbformat": 4,
  "nbformat_minor": 0,
  "metadata": {
    "colab": {
      "provenance": []
    },
    "kernelspec": {
      "name": "python3",
      "display_name": "Python 3"
    },
    "language_info": {
      "name": "python"
    }
  },
  "cells": [
    {
      "cell_type": "markdown",
      "source": [
        "1.Store Customer Orders"
      ],
      "metadata": {
        "id": "bNINufi9c9Co"
      }
    },
    {
      "cell_type": "markdown",
      "source": [
        "\n",
        "\n",
        "*  Create a list of customer names.\n",
        "\n"
      ],
      "metadata": {
        "id": "P4S2avHJdE13"
      }
    },
    {
      "cell_type": "code",
      "source": [
        "cust_name=[\"akshith\",\"soumya\",\"mohini\",\"sourabh\",\"sonu\",\"jerry\"]"
      ],
      "metadata": {
        "id": "FoRI6eWNdLIB"
      },
      "execution_count": null,
      "outputs": []
    },
    {
      "cell_type": "markdown",
      "source": [
        "\n",
        "\n",
        "*   Store each customer's order details (customer name, product, price, category) as tuples inside a list\n",
        "\n"
      ],
      "metadata": {
        "id": "XIHlxMQQdgpF"
      }
    },
    {
      "cell_type": "code",
      "source": [
        "orders=[\n",
        "     (\"akshith\",\"tv\",5000,\"electronics\"),\n",
        "     (\"soumya\",\"dress\",200,\"clothing\"),\n",
        "     (\"mohini\",\"frames\",150,\"home essential\"),\n",
        "     (\"sourabh\",\"fridge\",500,\"electronics\"),\n",
        "     (\"sonu\",\"mobile\",1000,\"electronics\"),\n",
        "     (\"jerry\",\"dress\",50,\"clothing\"),\n",
        "     (\"akshith\",\"mobile\",1000,\"electronics\"),\n",
        "     (\"soumya\",\"laptop\",2000,\"electronics\"),\n",
        "     (\"mohini\",\"shoes\",150,\"clothing\"),\n",
        "     (\"sonu\",\"T-shirt\",50,\"clothing\")\n",
        "]"
      ],
      "metadata": {
        "id": "BJ58OZRpdkWc"
      },
      "execution_count": null,
      "outputs": []
    },
    {
      "cell_type": "markdown",
      "source": [
        "\n",
        "\n",
        "* Use a dictionary where keys are customer names and values are lists of ordered\n",
        "products\n",
        "\n"
      ],
      "metadata": {
        "id": "8b2fMhsoevjB"
      }
    },
    {
      "cell_type": "code",
      "source": [
        "cust_orders={}\n",
        "for order in orders:\n",
        "    name, product, price, category = order\n",
        "    if name not in cust_orders:\n",
        "        cust_orders[name] = []\n",
        "    cust_orders[name].append(product)\n",
        "print(cust_orders)"
      ],
      "metadata": {
        "id": "k9v0p6mOezqw",
        "colab": {
          "base_uri": "https://localhost:8080/"
        },
        "outputId": "a263bd11-e741-49f6-d704-fa3d9084d32d"
      },
      "execution_count": null,
      "outputs": [
        {
          "output_type": "stream",
          "name": "stdout",
          "text": [
            "{'akshith': ['tv', 'mobile'], 'soumya': ['dress', 'laptop'], 'mohini': ['frames', 'shoes'], 'sourabh': ['fridge'], 'sonu': ['mobile', 'T-shirt'], 'jerry': ['dress']}\n"
          ]
        }
      ]
    },
    {
      "cell_type": "markdown",
      "source": [
        "2.Classify products by category"
      ],
      "metadata": {
        "id": "_OT9kvHffNB2"
      }
    },
    {
      "cell_type": "markdown",
      "source": [
        "\n",
        "*  Use a dictionary to map each product to its respective category\n",
        "\n",
        "\n"
      ],
      "metadata": {
        "id": "lJ8fNXtNfa3E"
      }
    },
    {
      "cell_type": "code",
      "source": [
        "product_categories = {}\n",
        "for order in orders:\n",
        "    name, product, price, category = order\n",
        "    product_categories[product] = category\n",
        "print(product_categories)\n",
        "\n"
      ],
      "metadata": {
        "id": "zttwHkMQfiwX",
        "colab": {
          "base_uri": "https://localhost:8080/"
        },
        "outputId": "ec199a9a-b99e-4a24-f364-309559cb306d"
      },
      "execution_count": null,
      "outputs": [
        {
          "output_type": "stream",
          "name": "stdout",
          "text": [
            "{'tv': 'electronics', 'dress': 'clothing', 'frames': 'home essential', 'fridge': 'electronics', 'mobile': 'electronics', 'laptop': 'electronics', 'shoes': 'clothing', 'T-shirt': 'clothing'}\n"
          ]
        }
      ]
    },
    {
      "cell_type": "markdown",
      "source": [
        "• Create a set of unique product categories"
      ],
      "metadata": {
        "id": "9UJqCZGUv2l2"
      }
    },
    {
      "cell_type": "code",
      "source": [
        "product_catagory=set(product_categories.values())\n"
      ],
      "metadata": {
        "id": "x4UNrQbCv_jw"
      },
      "execution_count": null,
      "outputs": []
    },
    {
      "cell_type": "markdown",
      "source": [
        "• Display all available product categories"
      ],
      "metadata": {
        "id": "n8lrV_JcwerP"
      }
    },
    {
      "cell_type": "code",
      "source": [
        "print(product_catagory)"
      ],
      "metadata": {
        "colab": {
          "base_uri": "https://localhost:8080/"
        },
        "id": "WvOL1IPjwizH",
        "outputId": "4abece53-f53e-43f4-f759-a8d0183dea97"
      },
      "execution_count": null,
      "outputs": [
        {
          "output_type": "stream",
          "name": "stdout",
          "text": [
            "{'clothing', 'home essential', 'electronics'}\n"
          ]
        }
      ]
    },
    {
      "cell_type": "markdown",
      "source": [
        "3. Analyze customer orders"
      ],
      "metadata": {
        "id": "wOf8YaFjwpFd"
      }
    },
    {
      "cell_type": "markdown",
      "source": [
        "• Use a loop to calculate the total amount each customer spends"
      ],
      "metadata": {
        "id": "6n5Qn5dsw2gx"
      }
    },
    {
      "cell_type": "code",
      "source": [
        "product_prices = {}\n",
        "for name, product, price, category in orders:\n",
        "    if product not in product_prices:\n",
        "        product_prices[product] = price\n",
        "\n",
        "total_spend=[]\n",
        "for name,products in cust_orders.items():\n",
        "    total=0\n",
        "    for product in products:\n",
        "        if product in product_prices:\n",
        "            price=product_prices[product]\n",
        "            total+=price\n",
        "        else:\n",
        "            print(f\"Warning: Price not found for product '{product}' for customer '{name}'. Skipping.\")\n",
        "\n",
        "    total_spend.append((name,total))\n",
        "print(total_spend)"
      ],
      "metadata": {
        "colab": {
          "base_uri": "https://localhost:8080/"
        },
        "id": "xWpnvNlsw5KJ",
        "outputId": "f79199f7-6841-4177-9ca8-38974dd277e6"
      },
      "execution_count": null,
      "outputs": [
        {
          "output_type": "stream",
          "name": "stdout",
          "text": [
            "[('akshith', 6000), ('soumya', 2200), ('mohini', 300), ('sourabh', 500), ('sonu', 1050), ('jerry', 200)]\n"
          ]
        }
      ]
    },
    {
      "cell_type": "markdown",
      "source": [
        "• If the total purchase value is above $100, classify the customer as a high-value buyer\n"
      ],
      "metadata": {
        "id": "Va7Yk3Kw5uW0"
      }
    },
    {
      "cell_type": "markdown",
      "source": [
        "• If it is between $50  and  $100, classify the customer as a moderate buyer\n"
      ],
      "metadata": {
        "id": "V0BF1g5552CV"
      }
    },
    {
      "cell_type": "markdown",
      "source": [
        "• If it is below $50, classify them as a low-value buyer"
      ],
      "metadata": {
        "id": "SycSmnrw567G"
      }
    },
    {
      "cell_type": "code",
      "source": [
        "for name,total in total_spend:\n",
        "    if total>100:\n",
        "        print(f\"{name}:High-value buyer\")\n",
        "    elif total>50 and total<100:\n",
        "        print(f\"{name}:Moderate buyer\")\n",
        "    else:\n",
        "        print(f\"{name}:Low-value buyer\")"
      ],
      "metadata": {
        "colab": {
          "base_uri": "https://localhost:8080/"
        },
        "id": "MoMjjgs46eQP",
        "outputId": "9b9702ca-e2dd-4387-fbc2-d9fd9d51a685"
      },
      "execution_count": null,
      "outputs": [
        {
          "output_type": "stream",
          "name": "stdout",
          "text": [
            "akshith:High-value buyer\n",
            "soumya:High-value buyer\n",
            "mohini:High-value buyer\n",
            "sourabh:High-value buyer\n",
            "sonu:High-value buyer\n",
            "jerry:High-value buyer\n"
          ]
        }
      ]
    },
    {
      "cell_type": "markdown",
      "source": [
        "4. Generate business insights\n",
        "\n",
        "\n",
        "• Calculate the total revenue per product category and store it in a dictionary\n",
        "\n",
        "\n",
        "• Extract unique products from all orders using a set\n",
        "\n",
        "\n",
        "• Use a list comprehension to find all customers who purchased electronics\n",
        "\n",
        "\n",
        "\n",
        "\n",
        "• Identify the top three highest-spending customers using sorting"
      ],
      "metadata": {
        "id": "BH3mddMh7DZH"
      }
    },
    {
      "cell_type": "code",
      "source": [
        "total_revenue={}\n",
        "for name,product,price,product_catagory in orders:\n",
        "    if product_catagory not in total_revenue:\n",
        "        total_revenue[product_catagory]=0\n",
        "    total_revenue[product_catagory]+=price\n",
        "print(total_revenue)"
      ],
      "metadata": {
        "colab": {
          "base_uri": "https://localhost:8080/"
        },
        "id": "D2vnhf-a7Fnf",
        "outputId": "3cbed52a-e6b5-49eb-ecd4-0d953f80b08b"
      },
      "execution_count": null,
      "outputs": [
        {
          "output_type": "stream",
          "name": "stdout",
          "text": [
            "{'electronics': 9500, 'clothing': 450, 'home essential': 150}\n"
          ]
        }
      ]
    },
    {
      "cell_type": "code",
      "source": [
        "\n",
        "unique_products=set()\n",
        "for name,product,price,product_catagory in orders:\n",
        "    unique_products.add(product)\n",
        "print(unique_products)\n"
      ],
      "metadata": {
        "colab": {
          "base_uri": "https://localhost:8080/"
        },
        "id": "F3XmvKCH78CM",
        "outputId": "9cb0299a-002a-42d6-fcdb-107250725283"
      },
      "execution_count": null,
      "outputs": [
        {
          "output_type": "stream",
          "name": "stdout",
          "text": [
            "{'dress', 'tv', 'fridge', 'laptop', 'frames', 'mobile', 'T-shirt', 'shoes'}\n"
          ]
        }
      ]
    },
    {
      "cell_type": "code",
      "source": [
        "\n",
        "electronic_customers=[name for name, product, price, category in orders if category==\"electronics\"]\n",
        "print(electronic_customers)"
      ],
      "metadata": {
        "colab": {
          "base_uri": "https://localhost:8080/"
        },
        "id": "HR0Nmirk9MjG",
        "outputId": "6877cf63-7ba5-4e8e-9fb5-e83b85c4477e"
      },
      "execution_count": null,
      "outputs": [
        {
          "output_type": "stream",
          "name": "stdout",
          "text": [
            "['akshith', 'sourabh', 'sonu', 'akshith', 'soumya']\n"
          ]
        }
      ]
    },
    {
      "cell_type": "code",
      "source": [
        "high_spend_cust=sorted(total_spend,key=lambda x:x[1],reverse=True)\n",
        "top_three=high_spend_cust[0:3]\n",
        "print(top_three)"
      ],
      "metadata": {
        "colab": {
          "base_uri": "https://localhost:8080/"
        },
        "id": "SoS6CxmX_kPG",
        "outputId": "e25631ad-af09-487f-e965-4a92467cdbbc"
      },
      "execution_count": null,
      "outputs": [
        {
          "output_type": "stream",
          "name": "stdout",
          "text": [
            "[('akshith', 6000), ('soumya', 2200), ('sonu', 1050)]\n"
          ]
        }
      ]
    },
    {
      "cell_type": "markdown",
      "source": [
        "5. Organize and display data\n",
        "\n",
        "\n",
        "• Print a summary of each customer’s total spending and their classification\n",
        "\n",
        "\n",
        "• Use set operations to find customers who purchased from multiple categories\n",
        "\n",
        "\n",
        "• Identify common customers who bought both electronics and clothing"
      ],
      "metadata": {
        "id": "RddEHbynBnuF"
      }
    },
    {
      "cell_type": "code",
      "source": [
        "for name,total in total_spend:\n",
        "  classification=\"\"\n",
        "  if total>100:\n",
        "    classification=\"High-value buyer\"\n",
        "  elif total>50 and total_spend<100:\n",
        "    classification=\"Moderate buyer\"\n",
        "  else:\n",
        "    classification=\"Low-value buyer\"\n",
        "  print(f\"{name} total spending-{total},classification-{classification}\")\n",
        "\n",
        "\n"
      ],
      "metadata": {
        "colab": {
          "base_uri": "https://localhost:8080/"
        },
        "id": "X-GoHBDCBqvF",
        "outputId": "e457eee3-47d6-479e-d01b-9c45f7290400"
      },
      "execution_count": null,
      "outputs": [
        {
          "output_type": "stream",
          "name": "stdout",
          "text": [
            "akshith total spending-6000,classification-High-value buyer\n",
            "soumya total spending-2200,classification-High-value buyer\n",
            "mohini total spending-300,classification-High-value buyer\n",
            "sourabh total spending-500,classification-High-value buyer\n",
            "sonu total spending-1050,classification-High-value buyer\n",
            "jerry total spending-200,classification-High-value buyer\n"
          ]
        }
      ]
    },
    {
      "cell_type": "code",
      "source": [
        "\n",
        "multiple_categ_customers = set()\n",
        "for name, products in cust_orders.items():\n",
        "    categories = set()\n",
        "    for product in products:\n",
        "        categories.add(product_categories[product])\n",
        "    if len(categories) > 1:\n",
        "        multiple_categ_customers.add(name)\n",
        "\n",
        "print(\"Customers who purchased from multiple categories:\")\n",
        "print(multiple_categ_customers)"
      ],
      "metadata": {
        "colab": {
          "base_uri": "https://localhost:8080/"
        },
        "id": "726gOCMII6ED",
        "outputId": "69ce5750-6be3-4281-e97b-210f07b5edbd"
      },
      "execution_count": null,
      "outputs": [
        {
          "output_type": "stream",
          "name": "stdout",
          "text": [
            "Customers who purchased from multiple categories:\n",
            "{'soumya', 'sonu', 'mohini'}\n"
          ]
        }
      ]
    },
    {
      "cell_type": "code",
      "source": [
        "electronic_customers=set()\n",
        "clothing_customers=set()\n",
        "for name,products in cust_orders.items():\n",
        "  categories=set()\n",
        "  for product in products:\n",
        "    categories.add(product_categories[product])\n",
        "  if 'electronics' in categories:\n",
        "    electronic_customers.add(name)\n",
        "  if 'clothing' in categories:\n",
        "    clothing_customers.add(name)\n",
        "common_customers=electronic_customers.intersection(clothing_customers)\n",
        "print(\"Customers who bought both electronics and clothing:\")\n",
        "print(common_customers)"
      ],
      "metadata": {
        "colab": {
          "base_uri": "https://localhost:8080/"
        },
        "id": "cKHdWF_pKVbd",
        "outputId": "7e11ea21-882b-4a46-d221-b12d78ae83d4"
      },
      "execution_count": null,
      "outputs": [
        {
          "output_type": "stream",
          "name": "stdout",
          "text": [
            "Customers who bought both electronics and clothing:\n",
            "{'soumya', 'sonu'}\n"
          ]
        }
      ]
    }
  ]
}